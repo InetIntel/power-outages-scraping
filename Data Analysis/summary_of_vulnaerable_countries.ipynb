{
 "cells": [
  {
   "cell_type": "code",
   "execution_count": 32,
   "metadata": {
    "collapsed": true
   },
   "outputs": [],
   "source": [
    "from collections import defaultdict\n",
    "\n",
    "import pandas as pd\n",
    "file_path = 'keepIton_stop_data_2016_2023.xlsx'"
   ]
  },
  {
   "cell_type": "code",
   "execution_count": 15,
   "outputs": [
    {
     "name": "stdout",
     "output_type": "stream",
     "text": [
      "Sheet names: ['2023', '2022', '2021', '2020', '2019', '2018', '2017', '2016', 'Data updates']\n"
     ]
    }
   ],
   "source": [
    "\n",
    "# Load the Excel file\n",
    "excel_data = pd.ExcelFile(file_path)\n",
    "\n",
    "# Display sheet names\n",
    "print(\"Sheet names:\", excel_data.sheet_names)\n",
    "\n",
    "\n",
    "# Parse the first sheet\n",
    "df_2023 = excel_data.parse(excel_data.sheet_names[0])\n",
    "df_2022 = excel_data.parse(excel_data.sheet_names[1])\n",
    "df_2021 = excel_data.parse(excel_data.sheet_names[2])\n",
    "df_2020 = excel_data.parse(excel_data.sheet_names[3])\n",
    "df_2019 = excel_data.parse(excel_data.sheet_names[4])\n",
    "df_2018 = excel_data.parse(excel_data.sheet_names[5])\n",
    "df_2017 = excel_data.parse(excel_data.sheet_names[6])\n",
    "df_2016 = excel_data.parse(excel_data.sheet_names[7])\n"
   ],
   "metadata": {
    "collapsed": false
   }
  },
  {
   "cell_type": "code",
   "execution_count": 16,
   "outputs": [
    {
     "name": "stdout",
     "output_type": "stream",
     "text": [
      "India                                 740\n",
      "Myanmar                                62\n",
      "Iran (Islamic Republic of)             55\n",
      "Pakistan                               42\n",
      "Ukraine                                29\n",
      "Yemen                                  25\n",
      "Iraq                                   23\n",
      "Ethiopia                               20\n",
      "Bangladesh                             18\n",
      "Syrian Arab Republic                   17\n",
      "Palestine, State of                    17\n",
      "Sudan                                  13\n",
      "Libya                                   7\n",
      "Algeria                                 7\n",
      "Cuba                                    6\n",
      "Turkmenistan                            5\n",
      "Russian Federation                      5\n",
      "Congo (Democratic Republic of the)      5\n",
      "Azerbaijan                              4\n",
      "Indonesia                               4\n",
      "Chad                                    4\n",
      "Sierra Leone                            3\n",
      "Togo                                    3\n",
      "Philippines                             3\n",
      "Tajikistan                              3\n",
      "Mauritania                              3\n",
      "Kenya                                   2\n",
      "Cameroon                                2\n",
      "Afghanistan                             2\n",
      "Burkina Faso                            2\n",
      "Gabon                                   2\n",
      "Senegal                                 2\n",
      "Somaliland                              2\n",
      "Bahrain                                 1\n",
      "Equatorial Guinea                       1\n",
      "North Korea                             1\n",
      "Morocco                                 1\n",
      "Belarus                                 1\n",
      "Turkey                                  1\n",
      "Nicaragua                               1\n",
      "Côte d'Ivoire                           1\n",
      "Kazakhstan                              1\n",
      "South Korea                             1\n",
      "Egypt                                   1\n",
      "Jordan                                  1\n",
      "Ecuador                                 1\n",
      "Malawi                                  1\n",
      "Kyrgyzstan                              1\n",
      "Mali                                    1\n",
      "Nigeria                                 1\n",
      "Eswatini                                1\n",
      "Congo                                   1\n",
      "Niger                                   1\n",
      "Uganda                                  1\n",
      "Uzbekistan                              1\n",
      "Venezuela (Bolivarian Republic of)      1\n",
      "Mozambique                              1\n",
      "Gambia                                  1\n",
      "Name: country, dtype: int64\n"
     ]
    }
   ],
   "source": [
    "df_aggregated = pd.concat([df_2023, df_2022, df_2021, df_2020, df_2019, df_2018, df_2017, df_2016])\n",
    "df_aggregated_full_network = df_aggregated[df_aggregated['shutdown_extent']=='Full network']\n",
    "print(df_aggregated_full_network['country'].value_counts())\n"
   ],
   "metadata": {
    "collapsed": false
   }
  },
  {
   "cell_type": "code",
   "execution_count": 17,
   "outputs": [
    {
     "name": "stdout",
     "output_type": "stream",
     "text": [
      "Iran (Islamic Republic of)            7\n",
      "Iraq                                  7\n",
      "Ukraine                               6\n",
      "Sudan                                 6\n",
      "Syrian Arab Republic                  5\n",
      "Cuba                                  3\n",
      "Congo (Democratic Republic of the)    3\n",
      "Bangladesh                            3\n",
      "Algeria                               3\n",
      "Sierra Leone                          3\n",
      "Chad                                  2\n",
      "Mauritania                            2\n",
      "Turkmenistan                          2\n",
      "Senegal                               2\n",
      "Ethiopia                              2\n",
      "Mozambique                            1\n",
      "Gabon                                 1\n",
      "Yemen                                 1\n",
      "Burkina Faso                          1\n",
      "Myanmar                               1\n",
      "Russian Federation                    1\n",
      "Pakistan                              1\n",
      "Kazakhstan                            1\n",
      "Côte d'Ivoire                         1\n",
      "Togo                                  1\n",
      "Belarus                               1\n",
      "Name: country, dtype: int64\n"
     ]
    }
   ],
   "source": [
    "df_aggregated_nationwide = df_aggregated_full_network[df_aggregated_full_network['area_name']=='Nationwide']\n",
    "print(df_aggregated_nationwide['country'].value_counts())"
   ],
   "metadata": {
    "collapsed": false
   }
  },
  {
   "cell_type": "code",
   "execution_count": 52,
   "outputs": [
    {
     "name": "stdout",
     "output_type": "stream",
     "text": [
      "                               country  nation_wide_occurrences  \\\n",
      "0                               Turkey                       11   \n",
      "1                            Indonesia                        9   \n",
      "2                 United Arab Emirates                        8   \n",
      "3                         Saudi Arabia                        7   \n",
      "4           Iran (Islamic Republic of)                       20   \n",
      "5                              Lebanon                        5   \n",
      "6                             Pakistan                        8   \n",
      "7                                Qatar                        4   \n",
      "8                                India                        5   \n",
      "9                               Uganda                        4   \n",
      "10                  Russian Federation                        6   \n",
      "11                                Oman                        4   \n",
      "12                              Jordan                        6   \n",
      "13                        Turkmenistan                        4   \n",
      "14                               China                        4   \n",
      "15                                Iraq                       10   \n",
      "16                            Ethiopia                        4   \n",
      "17                            Suriname                        1   \n",
      "18                          Mauritania                        2   \n",
      "19        Tanzania, United Republic of                        2   \n",
      "20                               Sudan                        7   \n",
      "21                              Brazil                        2   \n",
      "22                                Cuba                        3   \n",
      "23                              Guinea                        2   \n",
      "24                             Senegal                        4   \n",
      "25                             Algeria                        5   \n",
      "26                Syrian Arab Republic                        5   \n",
      "27                               Gabon                        1   \n",
      "28                          Azerbaijan                        2   \n",
      "29                          Mozambique                        1   \n",
      "30                               Kenya                        1   \n",
      "31                               Nepal                        1   \n",
      "32                             Ukraine                        7   \n",
      "33                             Nigeria                        1   \n",
      "34                          Uzbekistan                        1   \n",
      "35                          Kazakhstan                        3   \n",
      "36                        Burkina Faso                        2   \n",
      "37                               Yemen                        3   \n",
      "38                             Myanmar                        1   \n",
      "39                             Tunisia                        1   \n",
      "40                           Sri Lanka                        2   \n",
      "41                        Sierra Leone                        3   \n",
      "42                         Afghanistan                        1   \n",
      "43                                Chad                        2   \n",
      "44                          Bangladesh                        4   \n",
      "45  Congo (Democratic Republic of the)                        3   \n",
      "46                       Côte d'Ivoire                        1   \n",
      "47                                Mali                        1   \n",
      "48                            Cameroon                        1   \n",
      "49                                Togo                        1   \n",
      "50                             Belarus                        1   \n",
      "51                          Montenegro                        1   \n",
      "\n",
      "    total_occurrences     ratio  \n",
      "0                  19  0.578947  \n",
      "1                  14  0.642857  \n",
      "2                   8  1.000000  \n",
      "3                   8  0.875000  \n",
      "4                  69  0.289855  \n",
      "5                   5  1.000000  \n",
      "6                  56  0.142857  \n",
      "7                   4  1.000000  \n",
      "8                 771  0.006485  \n",
      "9                   8  0.500000  \n",
      "10                 11  0.545455  \n",
      "11                  5  0.800000  \n",
      "12                 15  0.400000  \n",
      "13                  8  0.500000  \n",
      "14                  8  0.500000  \n",
      "15                 31  0.322581  \n",
      "16                 28  0.142857  \n",
      "17                  1  1.000000  \n",
      "18                  3  0.666667  \n",
      "19                  3  0.666667  \n",
      "20                 17  0.411765  \n",
      "21                  4  0.500000  \n",
      "22                  8  0.375000  \n",
      "23                  4  0.500000  \n",
      "24                  5  0.800000  \n",
      "25                 13  0.384615  \n",
      "26                 17  0.294118  \n",
      "27                  4  0.250000  \n",
      "28                  7  0.285714  \n",
      "29                  1  1.000000  \n",
      "30                  3  0.333333  \n",
      "31                  1  1.000000  \n",
      "32                 31  0.225806  \n",
      "33                  4  0.250000  \n",
      "34                  4  0.250000  \n",
      "35                  8  0.375000  \n",
      "36                  3  0.666667  \n",
      "37                 28  0.107143  \n",
      "38                 64  0.015625  \n",
      "39                  1  1.000000  \n",
      "40                  5  0.400000  \n",
      "41                  3  1.000000  \n",
      "42                  3  0.333333  \n",
      "43                  8  0.250000  \n",
      "44                 21  0.190476  \n",
      "45                  7  0.428571  \n",
      "46                  1  1.000000  \n",
      "47                  5  0.200000  \n",
      "48                  4  0.250000  \n",
      "49                  5  0.200000  \n",
      "50                  3  0.333333  \n",
      "51                  1  1.000000  \n"
     ]
    }
   ],
   "source": [
    "country_nation_wide = defaultdict(int)\n",
    "country_occurrences = defaultdict(int)\n",
    "for row in df_aggregated.iterrows():\n",
    "    if row[1]['area_name'] == 'Nationwide':\n",
    "        country_nation_wide[row[1]['country']] += 1\n",
    "    country_occurrences[row[1]['country']] += 1\n",
    "\n",
    "df_country_nation_wide = pd.DataFrame(list(country_nation_wide.items()), columns=['country', 'nation_wide_occurrences'])\n",
    "df_total_occurrences = pd.DataFrame(list(country_occurrences.items()), columns=['country', 'total_occurrences'])\n",
    "df_occurrence_statistics = df_country_nation_wide.merge(df_total_occurrences, on='country')\n",
    "df_occurrence_statistics['ratio'] = df_occurrence_statistics['nation_wide_occurrences'] / df_occurrence_statistics['total_occurrences']\n",
    "print(df_occurrence_statistics)"
   ],
   "metadata": {
    "collapsed": false
   }
  },
  {
   "cell_type": "code",
   "execution_count": 12,
   "outputs": [
    {
     "name": "stdout",
     "output_type": "stream",
     "text": [
      "India                         495\n",
      "Myanmar                        29\n",
      "Pakistan                       23\n",
      "Bangladesh                     16\n",
      "Iran (Islamic Republic of)      6\n",
      "Ethiopia                        6\n",
      "Togo                            5\n",
      "Mauritania                      3\n",
      "Sudan                           3\n",
      "Mali                            2\n",
      "Indonesia                       2\n",
      "Kenya                           2\n",
      "Nigeria                         2\n",
      "Cuba                            2\n",
      "Philippines                     2\n",
      "Jordan                          2\n",
      "Yemen                           2\n",
      "Burkina Faso                    2\n",
      "Iraq                            2\n",
      "Libya                           2\n",
      "Turkmenistan                    2\n",
      "Algeria                         2\n",
      "Senegal                         2\n",
      "Russian Federation              2\n",
      "Ecuador                         1\n",
      "Niger                           1\n",
      "Syrian Arab Republic            1\n",
      "Burundi                         1\n",
      "South Sudan                     1\n",
      "Zimbabwe                        1\n",
      "Mozambique                      1\n",
      "North Korea                     1\n",
      "Name: country, dtype: int64\n"
     ]
    }
   ],
   "source": [
    "df_aggregated_mobile = df_aggregated[df_aggregated['affected_network']=='Mobile']\n",
    "print(df_aggregated_mobile['country'].value_counts())"
   ],
   "metadata": {
    "collapsed": false
   }
  },
  {
   "cell_type": "code",
   "execution_count": null,
   "outputs": [],
   "source": [],
   "metadata": {
    "collapsed": false
   }
  },
  {
   "cell_type": "code",
   "execution_count": 8,
   "outputs": [
    {
     "name": "stdout",
     "output_type": "stream",
     "text": [
      "country\n",
      "India                                 102\n",
      "Myanmar                                37\n",
      "Iran (Islamic Republic of)             31\n",
      "Palestine, State of                    16\n",
      "Ukraine                                 8\n",
      "Azerbaijan                              4\n",
      "Pakistan                                4\n",
      "Iraq                                    4\n",
      "Bangladesh                              3\n",
      "Libya                                   3\n",
      "Ethiopia                                2\n",
      "Senegal                                 2\n",
      "Syrian Arab Republic                    2\n",
      "Sudan                                   2\n",
      "Mauritania                              2\n",
      "Somaliland                              1\n",
      "Cuba                                    1\n",
      "Algeria                                 1\n",
      "Turkmenistan                            1\n",
      "Gabon                                   1\n",
      "Russian Federation                      1\n",
      "Mozambique                              1\n",
      "Venezuela (Bolivarian Republic of)      1\n",
      "Name: count, dtype: int64\n"
     ]
    }
   ],
   "source": [
    "print(df_2023[df_2023['shutdown_extent']=='Full network']['country'].value_counts())"
   ],
   "metadata": {
    "collapsed": false
   }
  },
  {
   "cell_type": "code",
   "execution_count": 11,
   "outputs": [
    {
     "name": "stdout",
     "output_type": "stream",
     "text": [
      "country\n",
      "India                         83\n",
      "Ukraine                       21\n",
      "Iran (Islamic Republic of)    16\n",
      "Myanmar                        8\n",
      "Bangladesh                     5\n",
      "Sudan                          4\n",
      "Libya                          4\n",
      "Pakistan                       3\n",
      "Turkmenistan                   3\n",
      "Cuba                           2\n",
      "Tajikistan                     2\n",
      "Sierra Leone                   2\n",
      "Ethiopia                       1\n",
      "Syrian Arab Republic           1\n",
      "Yemen                          1\n",
      "Burkina Faso                   1\n",
      "Iraq                           1\n",
      "Uzbekistan                     1\n",
      "Afghanistan                    1\n",
      "Somaliland                     1\n",
      "Jordan                         1\n",
      "Name: count, dtype: int64\n"
     ]
    }
   ],
   "source": [
    "print(df_2022[df_2022['shutdown_extent']=='Full network']['country'].value_counts())"
   ],
   "metadata": {
    "collapsed": false
   }
  },
  {
   "cell_type": "code",
   "execution_count": 12,
   "outputs": [
    {
     "name": "stdout",
     "output_type": "stream",
     "text": [
      "country\n",
      "India                         105\n",
      "Myanmar                        13\n",
      "Iran (Islamic Republic of)      4\n",
      "Sudan                           4\n",
      "Cuba                            3\n",
      "Iraq                            2\n",
      "Syrian Arab Republic            2\n",
      "Chad                            2\n",
      "Ethiopia                        2\n",
      "Yemen                           2\n",
      "Indonesia                       2\n",
      "Uganda                          1\n",
      "Pakistan                        1\n",
      "Niger                           1\n",
      "Gabon                           1\n",
      "Palestine, State of             1\n",
      "Congo                           1\n",
      "Eswatini                        1\n",
      "Algeria                         1\n",
      "Nigeria                         1\n",
      "Afghanistan                     1\n",
      "Bangladesh                      1\n",
      "Burkina Faso                    1\n",
      "Turkmenistan                    1\n",
      "Tajikistan                      1\n",
      "Name: count, dtype: int64\n"
     ]
    }
   ],
   "source": [
    "print(df_2021[df_2021['shutdown_extent']=='Full network']['country'].value_counts())"
   ],
   "metadata": {
    "collapsed": false
   }
  },
  {
   "cell_type": "code",
   "execution_count": 13,
   "outputs": [
    {
     "name": "stdout",
     "output_type": "stream",
     "text": [
      "country\n",
      "India                         107\n",
      "Yemen                           6\n",
      "Ethiopia                        4\n",
      "Kenya                           2\n",
      "Myanmar                         2\n",
      "Syrian Arab Republic            2\n",
      "Sudan                           2\n",
      "Bangladesh                      1\n",
      "Pakistan                        1\n",
      "Iran (Islamic Republic of)      1\n",
      "Togo                            1\n",
      "Mali                            1\n",
      "Kyrgyzstan                      1\n",
      "Name: count, dtype: int64\n"
     ]
    }
   ],
   "source": [
    "print(df_2020[df_2020['shutdown_extent']=='Full network']['country'].value_counts())"
   ],
   "metadata": {
    "collapsed": false
   }
  },
  {
   "cell_type": "code",
   "execution_count": 14,
   "outputs": [
    {
     "name": "stdout",
     "output_type": "stream",
     "text": [
      "country\n",
      "India                                 114\n",
      "Yemen                                  10\n",
      "Pakistan                                6\n",
      "Iraq                                    6\n",
      "Algeria                                 4\n",
      "Russian Federation                      3\n",
      "Iran (Islamic Republic of)              3\n",
      "Bangladesh                              3\n",
      "Ethiopia                                3\n",
      "Syrian Arab Republic                    2\n",
      "Indonesia                               2\n",
      "Myanmar                                 2\n",
      "Congo (Democratic Republic of the)      1\n",
      "Malawi                                  1\n",
      "Sudan                                   1\n",
      "Cameroon                                1\n",
      "Mauritania                              1\n",
      "Ecuador                                 1\n",
      "Name: count, dtype: int64\n"
     ]
    }
   ],
   "source": [
    "print(df_2019[df_2019['shutdown_extent']=='Full network']['country'].value_counts())"
   ],
   "metadata": {
    "collapsed": false
   }
  },
  {
   "cell_type": "code",
   "execution_count": 15,
   "outputs": [
    {
     "name": "stdout",
     "output_type": "stream",
     "text": [
      "country\n",
      "India                                 134\n",
      "Pakistan                               11\n",
      "Ethiopia                                6\n",
      "Yemen                                   6\n",
      "Iraq                                    5\n",
      "Bangladesh                              4\n",
      "Congo (Democratic Republic of the)      3\n",
      "Philippines                             2\n",
      "Chad                                    2\n",
      "Kazakhstan                              1\n",
      "South Korea                             1\n",
      "Sierra Leone                            1\n",
      "Côte d'Ivoire                           1\n",
      "Syrian Arab Republic                    1\n",
      "Nicaragua                               1\n",
      "Russian Federation                      1\n",
      "Togo                                    1\n",
      "Name: count, dtype: int64\n"
     ]
    }
   ],
   "source": [
    "print(df_2018[df_2018['shutdown_extent']=='Full network']['country'].value_counts())"
   ],
   "metadata": {
    "collapsed": false
   }
  },
  {
   "cell_type": "code",
   "execution_count": 16,
   "outputs": [
    {
     "name": "stdout",
     "output_type": "stream",
     "text": [
      "country\n",
      "India                                 66\n",
      "Pakistan                               8\n",
      "Iraq                                   4\n",
      "Syrian Arab Republic                   3\n",
      "Philippines                            1\n",
      "Congo (Democratic Republic of the)     1\n",
      "Cameroon                               1\n",
      "Belarus                                1\n",
      "Ethiopia                               1\n",
      "Algeria                                1\n",
      "Morocco                                1\n",
      "North Korea                            1\n",
      "Togo                                   1\n",
      "Equatorial Guinea                      1\n",
      "Name: count, dtype: int64\n"
     ]
    }
   ],
   "source": [
    "print(df_2017[df_2017['shutdown_extent']=='Full network']['country'].value_counts())"
   ],
   "metadata": {
    "collapsed": false
   }
  },
  {
   "cell_type": "code",
   "execution_count": 17,
   "outputs": [
    {
     "name": "stdout",
     "output_type": "stream",
     "text": [
      "country\n",
      "India                   29\n",
      "Pakistan                 8\n",
      "Syrian Arab Republic     4\n",
      "Iraq                     1\n",
      "Ethiopia                 1\n",
      "Bahrain                  1\n",
      "Bangladesh               1\n",
      "Egypt                    1\n",
      "Turkey                   1\n",
      "Gambia                   1\n",
      "Name: count, dtype: int64\n"
     ]
    }
   ],
   "source": [
    "print(df_2016[df_2016['shutdown_extent']=='Full network']['country'].value_counts())"
   ],
   "metadata": {
    "collapsed": false
   }
  },
  {
   "cell_type": "code",
   "execution_count": null,
   "outputs": [],
   "source": [],
   "metadata": {
    "collapsed": false
   }
  }
 ],
 "metadata": {
  "kernelspec": {
   "display_name": "Python 3",
   "language": "python",
   "name": "python3"
  },
  "language_info": {
   "codemirror_mode": {
    "name": "ipython",
    "version": 2
   },
   "file_extension": ".py",
   "mimetype": "text/x-python",
   "name": "python",
   "nbconvert_exporter": "python",
   "pygments_lexer": "ipython2",
   "version": "2.7.6"
  }
 },
 "nbformat": 4,
 "nbformat_minor": 0
}
